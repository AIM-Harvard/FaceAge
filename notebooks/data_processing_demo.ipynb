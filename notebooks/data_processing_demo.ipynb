{
  "nbformat": 4,
  "nbformat_minor": 0,
  "metadata": {
    "colab": {
      "name": "data_processing_demo.ipynb",
      "provenance": [],
      "collapsed_sections": []
    },
    "kernelspec": {
      "name": "python3",
      "display_name": "Python 3"
    },
    "language_info": {
      "name": "python"
    },
    "accelerator": "GPU"
  },
  "cells": [
    {
      "cell_type": "markdown",
      "source": [
        "# Introduction\n",
        "\n",
        "Intro here."
      ],
      "metadata": {
        "id": "r_2EYOcyAHi2"
      }
    },
    {
      "cell_type": "code",
      "execution_count": null,
      "metadata": {
        "colab": {
          "base_uri": "https://localhost:8080/"
        },
        "id": "-oKScr4o5zxu",
        "outputId": "78307cc5-9258-4f13-d1ef-2ba73eec67b5"
      },
      "outputs": [
        {
          "output_type": "stream",
          "name": "stdout",
          "text": [
            "Mounted at /content/gdrive\n"
          ]
        }
      ],
      "source": [
        "from google.colab import drive\n",
        "drive.mount('/content/gdrive')\n",
        "\n",
        "project_path = \"/content/gdrive/MyDrive/AIM/Projects/FaceAge\""
      ]
    },
    {
      "cell_type": "markdown",
      "source": [
        "---\n",
        "\n",
        "\n",
        "# Pipeline Description\n",
        "\n",
        "Describe dependencies and the pipeline."
      ],
      "metadata": {
        "id": "m1SCRWHR7ZXE"
      }
    },
    {
      "cell_type": "code",
      "source": [
        "!pip install mtcnn"
      ],
      "metadata": {
        "colab": {
          "base_uri": "https://localhost:8080/"
        },
        "id": "4s4U5qp_800d",
        "outputId": "2c667d09-e504-4819-f055-2f3ea9f8cdce"
      },
      "execution_count": null,
      "outputs": [
        {
          "output_type": "stream",
          "name": "stdout",
          "text": [
            "Collecting mtcnn\n",
            "  Downloading mtcnn-0.1.1-py3-none-any.whl (2.3 MB)\n",
            "\u001b[?25l\r\u001b[K     |▏                               | 10 kB 35.2 MB/s eta 0:00:01\r\u001b[K     |▎                               | 20 kB 36.1 MB/s eta 0:00:01\r\u001b[K     |▍                               | 30 kB 20.3 MB/s eta 0:00:01\r\u001b[K     |▋                               | 40 kB 18.3 MB/s eta 0:00:01\r\u001b[K     |▊                               | 51 kB 17.7 MB/s eta 0:00:01\r\u001b[K     |▉                               | 61 kB 16.2 MB/s eta 0:00:01\r\u001b[K     |█                               | 71 kB 13.8 MB/s eta 0:00:01\r\u001b[K     |█▏                              | 81 kB 15.0 MB/s eta 0:00:01\r\u001b[K     |█▎                              | 92 kB 15.6 MB/s eta 0:00:01\r\u001b[K     |█▌                              | 102 kB 14.2 MB/s eta 0:00:01\r\u001b[K     |█▋                              | 112 kB 14.2 MB/s eta 0:00:01\r\u001b[K     |█▊                              | 122 kB 14.2 MB/s eta 0:00:01\r\u001b[K     |█▉                              | 133 kB 14.2 MB/s eta 0:00:01\r\u001b[K     |██                              | 143 kB 14.2 MB/s eta 0:00:01\r\u001b[K     |██▏                             | 153 kB 14.2 MB/s eta 0:00:01\r\u001b[K     |██▎                             | 163 kB 14.2 MB/s eta 0:00:01\r\u001b[K     |██▌                             | 174 kB 14.2 MB/s eta 0:00:01\r\u001b[K     |██▋                             | 184 kB 14.2 MB/s eta 0:00:01\r\u001b[K     |██▊                             | 194 kB 14.2 MB/s eta 0:00:01\r\u001b[K     |███                             | 204 kB 14.2 MB/s eta 0:00:01\r\u001b[K     |███                             | 215 kB 14.2 MB/s eta 0:00:01\r\u001b[K     |███▏                            | 225 kB 14.2 MB/s eta 0:00:01\r\u001b[K     |███▍                            | 235 kB 14.2 MB/s eta 0:00:01\r\u001b[K     |███▌                            | 245 kB 14.2 MB/s eta 0:00:01\r\u001b[K     |███▋                            | 256 kB 14.2 MB/s eta 0:00:01\r\u001b[K     |███▊                            | 266 kB 14.2 MB/s eta 0:00:01\r\u001b[K     |████                            | 276 kB 14.2 MB/s eta 0:00:01\r\u001b[K     |████                            | 286 kB 14.2 MB/s eta 0:00:01\r\u001b[K     |████▏                           | 296 kB 14.2 MB/s eta 0:00:01\r\u001b[K     |████▍                           | 307 kB 14.2 MB/s eta 0:00:01\r\u001b[K     |████▌                           | 317 kB 14.2 MB/s eta 0:00:01\r\u001b[K     |████▋                           | 327 kB 14.2 MB/s eta 0:00:01\r\u001b[K     |████▉                           | 337 kB 14.2 MB/s eta 0:00:01\r\u001b[K     |█████                           | 348 kB 14.2 MB/s eta 0:00:01\r\u001b[K     |█████                           | 358 kB 14.2 MB/s eta 0:00:01\r\u001b[K     |█████▏                          | 368 kB 14.2 MB/s eta 0:00:01\r\u001b[K     |█████▍                          | 378 kB 14.2 MB/s eta 0:00:01\r\u001b[K     |█████▌                          | 389 kB 14.2 MB/s eta 0:00:01\r\u001b[K     |█████▋                          | 399 kB 14.2 MB/s eta 0:00:01\r\u001b[K     |█████▉                          | 409 kB 14.2 MB/s eta 0:00:01\r\u001b[K     |██████                          | 419 kB 14.2 MB/s eta 0:00:01\r\u001b[K     |██████                          | 430 kB 14.2 MB/s eta 0:00:01\r\u001b[K     |██████▎                         | 440 kB 14.2 MB/s eta 0:00:01\r\u001b[K     |██████▍                         | 450 kB 14.2 MB/s eta 0:00:01\r\u001b[K     |██████▌                         | 460 kB 14.2 MB/s eta 0:00:01\r\u001b[K     |██████▊                         | 471 kB 14.2 MB/s eta 0:00:01\r\u001b[K     |██████▉                         | 481 kB 14.2 MB/s eta 0:00:01\r\u001b[K     |███████                         | 491 kB 14.2 MB/s eta 0:00:01\r\u001b[K     |███████                         | 501 kB 14.2 MB/s eta 0:00:01\r\u001b[K     |███████▎                        | 512 kB 14.2 MB/s eta 0:00:01\r\u001b[K     |███████▍                        | 522 kB 14.2 MB/s eta 0:00:01\r\u001b[K     |███████▌                        | 532 kB 14.2 MB/s eta 0:00:01\r\u001b[K     |███████▊                        | 542 kB 14.2 MB/s eta 0:00:01\r\u001b[K     |███████▉                        | 552 kB 14.2 MB/s eta 0:00:01\r\u001b[K     |████████                        | 563 kB 14.2 MB/s eta 0:00:01\r\u001b[K     |████████▏                       | 573 kB 14.2 MB/s eta 0:00:01\r\u001b[K     |████████▎                       | 583 kB 14.2 MB/s eta 0:00:01\r\u001b[K     |████████▍                       | 593 kB 14.2 MB/s eta 0:00:01\r\u001b[K     |████████▌                       | 604 kB 14.2 MB/s eta 0:00:01\r\u001b[K     |████████▊                       | 614 kB 14.2 MB/s eta 0:00:01\r\u001b[K     |████████▉                       | 624 kB 14.2 MB/s eta 0:00:01\r\u001b[K     |█████████                       | 634 kB 14.2 MB/s eta 0:00:01\r\u001b[K     |█████████▏                      | 645 kB 14.2 MB/s eta 0:00:01\r\u001b[K     |█████████▎                      | 655 kB 14.2 MB/s eta 0:00:01\r\u001b[K     |█████████▍                      | 665 kB 14.2 MB/s eta 0:00:01\r\u001b[K     |█████████▋                      | 675 kB 14.2 MB/s eta 0:00:01\r\u001b[K     |█████████▊                      | 686 kB 14.2 MB/s eta 0:00:01\r\u001b[K     |█████████▉                      | 696 kB 14.2 MB/s eta 0:00:01\r\u001b[K     |██████████                      | 706 kB 14.2 MB/s eta 0:00:01\r\u001b[K     |██████████▏                     | 716 kB 14.2 MB/s eta 0:00:01\r\u001b[K     |██████████▎                     | 727 kB 14.2 MB/s eta 0:00:01\r\u001b[K     |██████████▍                     | 737 kB 14.2 MB/s eta 0:00:01\r\u001b[K     |██████████▋                     | 747 kB 14.2 MB/s eta 0:00:01\r\u001b[K     |██████████▊                     | 757 kB 14.2 MB/s eta 0:00:01\r\u001b[K     |██████████▉                     | 768 kB 14.2 MB/s eta 0:00:01\r\u001b[K     |███████████                     | 778 kB 14.2 MB/s eta 0:00:01\r\u001b[K     |███████████▏                    | 788 kB 14.2 MB/s eta 0:00:01\r\u001b[K     |███████████▎                    | 798 kB 14.2 MB/s eta 0:00:01\r\u001b[K     |███████████▌                    | 808 kB 14.2 MB/s eta 0:00:01\r\u001b[K     |███████████▋                    | 819 kB 14.2 MB/s eta 0:00:01\r\u001b[K     |███████████▊                    | 829 kB 14.2 MB/s eta 0:00:01\r\u001b[K     |███████████▉                    | 839 kB 14.2 MB/s eta 0:00:01\r\u001b[K     |████████████                    | 849 kB 14.2 MB/s eta 0:00:01\r\u001b[K     |████████████▏                   | 860 kB 14.2 MB/s eta 0:00:01\r\u001b[K     |████████████▎                   | 870 kB 14.2 MB/s eta 0:00:01\r\u001b[K     |████████████▌                   | 880 kB 14.2 MB/s eta 0:00:01\r\u001b[K     |████████████▋                   | 890 kB 14.2 MB/s eta 0:00:01\r\u001b[K     |████████████▊                   | 901 kB 14.2 MB/s eta 0:00:01\r\u001b[K     |█████████████                   | 911 kB 14.2 MB/s eta 0:00:01\r\u001b[K     |█████████████                   | 921 kB 14.2 MB/s eta 0:00:01\r\u001b[K     |█████████████▏                  | 931 kB 14.2 MB/s eta 0:00:01\r\u001b[K     |█████████████▍                  | 942 kB 14.2 MB/s eta 0:00:01\r\u001b[K     |█████████████▌                  | 952 kB 14.2 MB/s eta 0:00:01\r\u001b[K     |█████████████▋                  | 962 kB 14.2 MB/s eta 0:00:01\r\u001b[K     |█████████████▊                  | 972 kB 14.2 MB/s eta 0:00:01\r\u001b[K     |██████████████                  | 983 kB 14.2 MB/s eta 0:00:01\r\u001b[K     |██████████████                  | 993 kB 14.2 MB/s eta 0:00:01\r\u001b[K     |██████████████▏                 | 1.0 MB 14.2 MB/s eta 0:00:01\r\u001b[K     |██████████████▍                 | 1.0 MB 14.2 MB/s eta 0:00:01\r\u001b[K     |██████████████▌                 | 1.0 MB 14.2 MB/s eta 0:00:01\r\u001b[K     |██████████████▋                 | 1.0 MB 14.2 MB/s eta 0:00:01\r\u001b[K     |██████████████▉                 | 1.0 MB 14.2 MB/s eta 0:00:01\r\u001b[K     |███████████████                 | 1.1 MB 14.2 MB/s eta 0:00:01\r\u001b[K     |███████████████                 | 1.1 MB 14.2 MB/s eta 0:00:01\r\u001b[K     |███████████████▏                | 1.1 MB 14.2 MB/s eta 0:00:01\r\u001b[K     |███████████████▍                | 1.1 MB 14.2 MB/s eta 0:00:01\r\u001b[K     |███████████████▌                | 1.1 MB 14.2 MB/s eta 0:00:01\r\u001b[K     |███████████████▋                | 1.1 MB 14.2 MB/s eta 0:00:01\r\u001b[K     |███████████████▉                | 1.1 MB 14.2 MB/s eta 0:00:01\r\u001b[K     |████████████████                | 1.1 MB 14.2 MB/s eta 0:00:01\r\u001b[K     |████████████████                | 1.1 MB 14.2 MB/s eta 0:00:01\r\u001b[K     |████████████████▎               | 1.1 MB 14.2 MB/s eta 0:00:01\r\u001b[K     |████████████████▍               | 1.2 MB 14.2 MB/s eta 0:00:01\r\u001b[K     |████████████████▌               | 1.2 MB 14.2 MB/s eta 0:00:01\r\u001b[K     |████████████████▊               | 1.2 MB 14.2 MB/s eta 0:00:01\r\u001b[K     |████████████████▉               | 1.2 MB 14.2 MB/s eta 0:00:01\r\u001b[K     |█████████████████               | 1.2 MB 14.2 MB/s eta 0:00:01\r\u001b[K     |█████████████████               | 1.2 MB 14.2 MB/s eta 0:00:01\r\u001b[K     |█████████████████▎              | 1.2 MB 14.2 MB/s eta 0:00:01\r\u001b[K     |█████████████████▍              | 1.2 MB 14.2 MB/s eta 0:00:01\r\u001b[K     |█████████████████▌              | 1.2 MB 14.2 MB/s eta 0:00:01\r\u001b[K     |█████████████████▊              | 1.2 MB 14.2 MB/s eta 0:00:01\r\u001b[K     |█████████████████▉              | 1.3 MB 14.2 MB/s eta 0:00:01\r\u001b[K     |██████████████████              | 1.3 MB 14.2 MB/s eta 0:00:01\r\u001b[K     |██████████████████▏             | 1.3 MB 14.2 MB/s eta 0:00:01\r\u001b[K     |██████████████████▎             | 1.3 MB 14.2 MB/s eta 0:00:01\r\u001b[K     |██████████████████▍             | 1.3 MB 14.2 MB/s eta 0:00:01\r\u001b[K     |██████████████████▌             | 1.3 MB 14.2 MB/s eta 0:00:01\r\u001b[K     |██████████████████▊             | 1.3 MB 14.2 MB/s eta 0:00:01\r\u001b[K     |██████████████████▉             | 1.3 MB 14.2 MB/s eta 0:00:01\r\u001b[K     |███████████████████             | 1.3 MB 14.2 MB/s eta 0:00:01\r\u001b[K     |███████████████████▏            | 1.4 MB 14.2 MB/s eta 0:00:01\r\u001b[K     |███████████████████▎            | 1.4 MB 14.2 MB/s eta 0:00:01\r\u001b[K     |███████████████████▍            | 1.4 MB 14.2 MB/s eta 0:00:01\r\u001b[K     |███████████████████▋            | 1.4 MB 14.2 MB/s eta 0:00:01\r\u001b[K     |███████████████████▊            | 1.4 MB 14.2 MB/s eta 0:00:01\r\u001b[K     |███████████████████▉            | 1.4 MB 14.2 MB/s eta 0:00:01\r\u001b[K     |████████████████████            | 1.4 MB 14.2 MB/s eta 0:00:01\r\u001b[K     |████████████████████▏           | 1.4 MB 14.2 MB/s eta 0:00:01\r\u001b[K     |████████████████████▎           | 1.4 MB 14.2 MB/s eta 0:00:01\r\u001b[K     |████████████████████▍           | 1.4 MB 14.2 MB/s eta 0:00:01\r\u001b[K     |████████████████████▋           | 1.5 MB 14.2 MB/s eta 0:00:01\r\u001b[K     |████████████████████▊           | 1.5 MB 14.2 MB/s eta 0:00:01\r\u001b[K     |████████████████████▉           | 1.5 MB 14.2 MB/s eta 0:00:01\r\u001b[K     |█████████████████████           | 1.5 MB 14.2 MB/s eta 0:00:01\r\u001b[K     |█████████████████████▏          | 1.5 MB 14.2 MB/s eta 0:00:01\r\u001b[K     |█████████████████████▎          | 1.5 MB 14.2 MB/s eta 0:00:01\r\u001b[K     |█████████████████████▌          | 1.5 MB 14.2 MB/s eta 0:00:01\r\u001b[K     |█████████████████████▋          | 1.5 MB 14.2 MB/s eta 0:00:01\r\u001b[K     |█████████████████████▊          | 1.5 MB 14.2 MB/s eta 0:00:01\r\u001b[K     |██████████████████████          | 1.5 MB 14.2 MB/s eta 0:00:01\r\u001b[K     |██████████████████████          | 1.6 MB 14.2 MB/s eta 0:00:01\r\u001b[K     |██████████████████████▏         | 1.6 MB 14.2 MB/s eta 0:00:01\r\u001b[K     |██████████████████████▎         | 1.6 MB 14.2 MB/s eta 0:00:01\r\u001b[K     |██████████████████████▌         | 1.6 MB 14.2 MB/s eta 0:00:01\r\u001b[K     |██████████████████████▋         | 1.6 MB 14.2 MB/s eta 0:00:01\r\u001b[K     |██████████████████████▊         | 1.6 MB 14.2 MB/s eta 0:00:01\r\u001b[K     |███████████████████████         | 1.6 MB 14.2 MB/s eta 0:00:01\r\u001b[K     |███████████████████████         | 1.6 MB 14.2 MB/s eta 0:00:01\r\u001b[K     |███████████████████████▏        | 1.6 MB 14.2 MB/s eta 0:00:01\r\u001b[K     |███████████████████████▍        | 1.6 MB 14.2 MB/s eta 0:00:01\r\u001b[K     |███████████████████████▌        | 1.7 MB 14.2 MB/s eta 0:00:01\r\u001b[K     |███████████████████████▋        | 1.7 MB 14.2 MB/s eta 0:00:01\r\u001b[K     |███████████████████████▊        | 1.7 MB 14.2 MB/s eta 0:00:01\r\u001b[K     |████████████████████████        | 1.7 MB 14.2 MB/s eta 0:00:01\r\u001b[K     |████████████████████████        | 1.7 MB 14.2 MB/s eta 0:00:01\r\u001b[K     |████████████████████████▏       | 1.7 MB 14.2 MB/s eta 0:00:01\r\u001b[K     |████████████████████████▍       | 1.7 MB 14.2 MB/s eta 0:00:01\r\u001b[K     |████████████████████████▌       | 1.7 MB 14.2 MB/s eta 0:00:01\r\u001b[K     |████████████████████████▋       | 1.7 MB 14.2 MB/s eta 0:00:01\r\u001b[K     |████████████████████████▉       | 1.8 MB 14.2 MB/s eta 0:00:01\r\u001b[K     |█████████████████████████       | 1.8 MB 14.2 MB/s eta 0:00:01\r\u001b[K     |█████████████████████████       | 1.8 MB 14.2 MB/s eta 0:00:01\r\u001b[K     |█████████████████████████▎      | 1.8 MB 14.2 MB/s eta 0:00:01\r\u001b[K     |█████████████████████████▍      | 1.8 MB 14.2 MB/s eta 0:00:01\r\u001b[K     |█████████████████████████▌      | 1.8 MB 14.2 MB/s eta 0:00:01\r\u001b[K     |█████████████████████████▋      | 1.8 MB 14.2 MB/s eta 0:00:01\r\u001b[K     |█████████████████████████▉      | 1.8 MB 14.2 MB/s eta 0:00:01\r\u001b[K     |██████████████████████████      | 1.8 MB 14.2 MB/s eta 0:00:01\r\u001b[K     |██████████████████████████      | 1.8 MB 14.2 MB/s eta 0:00:01\r\u001b[K     |██████████████████████████▎     | 1.9 MB 14.2 MB/s eta 0:00:01\r\u001b[K     |██████████████████████████▍     | 1.9 MB 14.2 MB/s eta 0:00:01\r\u001b[K     |██████████████████████████▌     | 1.9 MB 14.2 MB/s eta 0:00:01\r\u001b[K     |██████████████████████████▊     | 1.9 MB 14.2 MB/s eta 0:00:01\r\u001b[K     |██████████████████████████▉     | 1.9 MB 14.2 MB/s eta 0:00:01\r\u001b[K     |███████████████████████████     | 1.9 MB 14.2 MB/s eta 0:00:01\r\u001b[K     |███████████████████████████     | 1.9 MB 14.2 MB/s eta 0:00:01\r\u001b[K     |███████████████████████████▎    | 1.9 MB 14.2 MB/s eta 0:00:01\r\u001b[K     |███████████████████████████▍    | 1.9 MB 14.2 MB/s eta 0:00:01\r\u001b[K     |███████████████████████████▌    | 1.9 MB 14.2 MB/s eta 0:00:01\r\u001b[K     |███████████████████████████▊    | 2.0 MB 14.2 MB/s eta 0:00:01\r\u001b[K     |███████████████████████████▉    | 2.0 MB 14.2 MB/s eta 0:00:01\r\u001b[K     |████████████████████████████    | 2.0 MB 14.2 MB/s eta 0:00:01\r\u001b[K     |████████████████████████████▏   | 2.0 MB 14.2 MB/s eta 0:00:01\r\u001b[K     |████████████████████████████▎   | 2.0 MB 14.2 MB/s eta 0:00:01\r\u001b[K     |████████████████████████████▍   | 2.0 MB 14.2 MB/s eta 0:00:01\r\u001b[K     |████████████████████████████▋   | 2.0 MB 14.2 MB/s eta 0:00:01\r\u001b[K     |████████████████████████████▊   | 2.0 MB 14.2 MB/s eta 0:00:01\r\u001b[K     |████████████████████████████▉   | 2.0 MB 14.2 MB/s eta 0:00:01\r\u001b[K     |█████████████████████████████   | 2.0 MB 14.2 MB/s eta 0:00:01\r\u001b[K     |█████████████████████████████▏  | 2.1 MB 14.2 MB/s eta 0:00:01\r\u001b[K     |█████████████████████████████▎  | 2.1 MB 14.2 MB/s eta 0:00:01\r\u001b[K     |█████████████████████████████▍  | 2.1 MB 14.2 MB/s eta 0:00:01\r\u001b[K     |█████████████████████████████▋  | 2.1 MB 14.2 MB/s eta 0:00:01\r\u001b[K     |█████████████████████████████▊  | 2.1 MB 14.2 MB/s eta 0:00:01\r\u001b[K     |█████████████████████████████▉  | 2.1 MB 14.2 MB/s eta 0:00:01\r\u001b[K     |██████████████████████████████  | 2.1 MB 14.2 MB/s eta 0:00:01\r\u001b[K     |██████████████████████████████▏ | 2.1 MB 14.2 MB/s eta 0:00:01\r\u001b[K     |██████████████████████████████▎ | 2.1 MB 14.2 MB/s eta 0:00:01\r\u001b[K     |██████████████████████████████▍ | 2.2 MB 14.2 MB/s eta 0:00:01\r\u001b[K     |██████████████████████████████▋ | 2.2 MB 14.2 MB/s eta 0:00:01\r\u001b[K     |██████████████████████████████▊ | 2.2 MB 14.2 MB/s eta 0:00:01\r\u001b[K     |██████████████████████████████▉ | 2.2 MB 14.2 MB/s eta 0:00:01\r\u001b[K     |███████████████████████████████ | 2.2 MB 14.2 MB/s eta 0:00:01\r\u001b[K     |███████████████████████████████▏| 2.2 MB 14.2 MB/s eta 0:00:01\r\u001b[K     |███████████████████████████████▎| 2.2 MB 14.2 MB/s eta 0:00:01\r\u001b[K     |███████████████████████████████▌| 2.2 MB 14.2 MB/s eta 0:00:01\r\u001b[K     |███████████████████████████████▋| 2.2 MB 14.2 MB/s eta 0:00:01\r\u001b[K     |███████████████████████████████▊| 2.2 MB 14.2 MB/s eta 0:00:01\r\u001b[K     |████████████████████████████████| 2.3 MB 14.2 MB/s eta 0:00:01\r\u001b[K     |████████████████████████████████| 2.3 MB 14.2 MB/s \n",
            "\u001b[?25hRequirement already satisfied: keras>=2.0.0 in /usr/local/lib/python3.7/dist-packages (from mtcnn) (2.7.0)\n",
            "Requirement already satisfied: opencv-python>=4.1.0 in /usr/local/lib/python3.7/dist-packages (from mtcnn) (4.1.2.30)\n",
            "Requirement already satisfied: numpy>=1.14.5 in /usr/local/lib/python3.7/dist-packages (from opencv-python>=4.1.0->mtcnn) (1.19.5)\n",
            "Installing collected packages: mtcnn\n",
            "Successfully installed mtcnn-0.1.1\n"
          ]
        }
      ]
    },
    {
      "cell_type": "code",
      "source": [
        "import os\n",
        "os.environ['TF_CPP_MIN_LOG_LEVEL'] = '3'\n",
        "\n",
        "import sys\n",
        "import PIL\n",
        "import mtcnn\n",
        "import keras\n",
        "import numpy as np\n",
        "import pandas as pd\n",
        "import tensorflow as tf\n",
        "\n",
        "from IPython.display import clear_output\n",
        "\n",
        "from skimage.io import imsave, imread"
      ],
      "metadata": {
        "id": "-vgpT1-k7Y6F"
      },
      "execution_count": null,
      "outputs": []
    },
    {
      "cell_type": "code",
      "source": [
        "print(\"Python version     : \", sys.version.split('\\n')[0])\n",
        "print(\"TensorFlow version : \", tf.__version__)\n",
        "print(\"Keras version      : \", keras.__version__)\n",
        "print(\"Numpy version      : \", np.__version__)"
      ],
      "metadata": {
        "colab": {
          "base_uri": "https://localhost:8080/"
        },
        "id": "MyuX96YJkpAE",
        "outputId": "2bf113d4-cf17-4dd4-8b90-f1dcfac8807a"
      },
      "execution_count": null,
      "outputs": [
        {
          "output_type": "stream",
          "name": "stdout",
          "text": [
            "Python version     :  3.7.12 (default, Sep 10 2021, 00:21:48) \n",
            "TensorFlow version :  2.7.0\n",
            "Keras version      :  2.7.0\n",
            "Numpy version      :  1.19.5\n"
          ]
        }
      ]
    },
    {
      "cell_type": "code",
      "source": [
        "BASE_DATA_PATH = os.path.join(project_path, \"data\")\n",
        "BASE_MODEL_PATH = os.path.join(project_path, \"models\")"
      ],
      "metadata": {
        "id": "PF4-HKtK6zNi"
      },
      "execution_count": null,
      "outputs": []
    },
    {
      "cell_type": "markdown",
      "source": [
        "---\n",
        "\n",
        "# Data Processing\n",
        "\n",
        "Describe the data processing phase."
      ],
      "metadata": {
        "id": "Kh8hFoqm9CDy"
      }
    },
    {
      "cell_type": "markdown",
      "source": [
        "## Face Localization\n",
        "\n",
        "Describe the face localization step."
      ],
      "metadata": {
        "id": "ViAZCEAKAYZ3"
      }
    },
    {
      "cell_type": "code",
      "source": [
        "def get_face_bbox_from_image(path_to_image):\n",
        "  \n",
        "  # sanity check\n",
        "  assert os.path.exists(path_to_image)\n",
        "\n",
        "  pat_img = imread(path_to_image)\n",
        "  \n",
        "  try:\n",
        "    return mtcnn.mtcnn.MTCNN().detect_faces(pat_img)[0]\n",
        "  except:\n",
        "    # patient\n",
        "    print('ERROR: Processing error for file \"%s\"'%(path_to_image))\n",
        "    return dict()"
      ],
      "metadata": {
        "id": "o8qrgqSQ7XSL"
      },
      "execution_count": null,
      "outputs": []
    },
    {
      "cell_type": "code",
      "source": [
        "input_base_path = os.path.join(BASE_DATA_PATH, \"utk_hi-res_qa\")\n",
        "input_file_list = [f for f in os.listdir(input_base_path) if \".jpg\" in f]\n",
        "\n",
        "# save the output dictionary in a folder parsable by the data_viz notebook\n",
        "BASE_OUTPUT_PATH = BASE_DATA_PATH"
      ],
      "metadata": {
        "id": "0uZBNqX69EZQ"
      },
      "execution_count": null,
      "outputs": []
    },
    {
      "cell_type": "code",
      "source": [
        "face_bbox_dict = dict()\n",
        "\n",
        "# limit the number of subjects for a faster execution\n",
        "# if set to -1, run on all the hi-res UTK data (provided)\n",
        "N_SUBJECTS = -1\n",
        "\n",
        "# subset the file list to speed up the execution of the whole notebook\n",
        "input_file_list = input_file_list[:N_SUBJECTS] if N_SUBJECTS > 0 else input_file_list\n",
        "\n",
        "\n",
        "for idx, input_image in enumerate(input_file_list):\n",
        "\n",
        "  # get rid of label information and file extension\n",
        "  subj_id = input_image.split(\"_\")[3].split(\".\")[0] \n",
        "\n",
        "  print('(%g/%g) Running the face localization pipeline for \"%s\"'%(idx + 1,\n",
        "                                                                   len(input_file_list),\n",
        "                                                                   subj_id))\n",
        "  \n",
        "  clear_output(wait = True)\n",
        "\n",
        "  subj_age = input_image.split(\"_\")[0]\n",
        "  subj_gender = input_image.split(\"_\")[1]\n",
        "  subj_race = input_image.split(\"_\")[2]\n",
        "\n",
        "  path_to_image = os.path.join(input_base_path, input_image)\n",
        "  \n",
        "  face_bbox_dict[subj_id] = dict()\n",
        "\n",
        "  face_bbox_dict[subj_id][\"age\"] = subj_age\n",
        "  face_bbox_dict[subj_id][\"gender\"] = subj_gender\n",
        "  face_bbox_dict[subj_id][\"race\"] = subj_race\n",
        "  \n",
        "  face_bbox_dict[subj_id][\"path_to_image\"] = path_to_image\n",
        "\n",
        "  face_bbox_dict[subj_id][\"mtcnn_output_dict\"] = get_face_bbox_from_image(path_to_image)"
      ],
      "metadata": {
        "colab": {
          "base_uri": "https://localhost:8080/"
        },
        "id": "Ozu344Tn9Zw9",
        "outputId": "cd01f6b2-7af6-42f0-fe98-00d61a0568dd"
      },
      "execution_count": null,
      "outputs": [
        {
          "output_type": "stream",
          "name": "stdout",
          "text": [
            "(2547/2547) Running the face localization pipeline for \"20170117152131106\"\n"
          ]
        }
      ]
    },
    {
      "cell_type": "code",
      "source": [
        "# example of the output dictionary\n",
        "face_bbox_dict[subj_id]"
      ],
      "metadata": {
        "colab": {
          "base_uri": "https://localhost:8080/"
        },
        "id": "s8rkl6Ma-wYl",
        "outputId": "d6732430-ccc7-432f-fa21-51f9c341f8bb"
      },
      "execution_count": null,
      "outputs": [
        {
          "output_type": "execute_result",
          "data": {
            "text/plain": [
              "{'age': '35',\n",
              " 'gender': '1',\n",
              " 'mtcnn_output_dict': {'box': [246, 0, 584, 601],\n",
              "  'confidence': 0.9992105960845947,\n",
              "  'keypoints': {'left_eye': (439, 165),\n",
              "   'mouth_left': (447, 403),\n",
              "   'mouth_right': (726, 391),\n",
              "   'nose': (604, 328),\n",
              "   'right_eye': (714, 155)}},\n",
              " 'path_to_image': '/content/gdrive/MyDrive/AIM/Projects/FaceAge/data/utk_hi-res_qa/35_1_0_20170117152131106.jpg',\n",
              " 'race': '0'}"
            ]
          },
          "metadata": {},
          "execution_count": 9
        }
      ]
    },
    {
      "cell_type": "markdown",
      "source": [
        "---\n",
        "\n",
        "# FaceAge Estimation\n",
        "\n",
        "Describe the FaceAge estimation step."
      ],
      "metadata": {
        "id": "ApjgpDT__yU4"
      }
    },
    {
      "cell_type": "code",
      "source": [
        "def get_model_prediction(model, path_to_image, mtcnn_output_dict):\n",
        "  \n",
        "  # sanity check\n",
        "  assert os.path.exists(path_to_image)\n",
        "\n",
        "  pat_img = imread(path_to_image)\n",
        "\n",
        "  # extract the bounding box from the first face\n",
        "  x1, y1, width, height = mtcnn_output_dict['box']\n",
        "  x1, y1 = abs(x1), abs(y1)\n",
        "  x2, y2 = x1 + width, y1 + height\n",
        "\n",
        "  # crop the face\n",
        "  pat_face = pat_img[y1:y2, x1:x2]\n",
        "\n",
        "  # resize cropped image to the model input size\n",
        "  pat_face_pil = PIL.Image.fromarray(np.uint8(pat_face)).convert('RGB')\n",
        "  pat_face = np.asarray(pat_face_pil.resize((160, 160)))\n",
        "  \n",
        "  # prep image for TF processing\n",
        "  mean, std = pat_face.mean(), pat_face.std()\n",
        "  pat_face = (pat_face - mean) / std\n",
        "  pat_face_input = pat_face.reshape(1, 160, 160, 3)\n",
        "  \n",
        "  return np.squeeze(model.predict(pat_face_input))"
      ],
      "metadata": {
        "id": "KcCE975OA4qY"
      },
      "execution_count": null,
      "outputs": []
    },
    {
      "cell_type": "code",
      "source": [
        "model_path = os.path.join(BASE_MODEL_PATH, \"faceage_model.h5\")\n",
        "model = keras.models.load_model(model_path)"
      ],
      "metadata": {
        "id": "w6jIfKy3_ViT",
        "colab": {
          "base_uri": "https://localhost:8080/"
        },
        "outputId": "61aa6a36-de5b-4a81-a091-67d1c29a8a24"
      },
      "execution_count": null,
      "outputs": [
        {
          "output_type": "stream",
          "name": "stdout",
          "text": [
            "WARNING:tensorflow:No training configuration found in the save file, so the model was *not* compiled. Compile it manually.\n"
          ]
        }
      ]
    },
    {
      "cell_type": "code",
      "source": [
        "age_pred_dict = dict()\n",
        "\n",
        "for subj_id in face_bbox_dict.keys():\n",
        "  path_to_image = face_bbox_dict[subj_id][\"path_to_image\"]\n",
        "  mtcnn_output_dict = face_bbox_dict[subj_id][\"mtcnn_output_dict\"]\n",
        "\n",
        "  age_pred_dict[subj_id] = dict()\n",
        "\n",
        "  age_pred_dict[subj_id][\"faceage\"] = get_model_prediction(model, path_to_image, mtcnn_output_dict)\n",
        "  age_pred_dict[subj_id][\"age\"] = face_bbox_dict[subj_id][\"age\"]\n",
        "  age_pred_dict[subj_id][\"gender\"] = face_bbox_dict[subj_id][\"gender\"]\n",
        "  age_pred_dict[subj_id][\"race\"] = face_bbox_dict[subj_id][\"race\"]"
      ],
      "metadata": {
        "id": "lEbVhUDxArJ_"
      },
      "execution_count": null,
      "outputs": []
    },
    {
      "cell_type": "code",
      "source": [
        "# example of the final dictionary to be converted into a DataFrame\n",
        "age_pred_dict[subj_id]"
      ],
      "metadata": {
        "colab": {
          "base_uri": "https://localhost:8080/"
        },
        "id": "7fF6VK4xBNW6",
        "outputId": "ab6852ef-d8fa-4fa7-b43f-622c8b6e35e3"
      },
      "execution_count": null,
      "outputs": [
        {
          "output_type": "execute_result",
          "data": {
            "text/plain": [
              "{'age': '35',\n",
              " 'faceage': array(29.636372, dtype=float32),\n",
              " 'gender': '1',\n",
              " 'race': '0'}"
            ]
          },
          "metadata": {},
          "execution_count": 13
        }
      ]
    },
    {
      "cell_type": "code",
      "source": [
        "age_pred_df = pd.DataFrame.from_dict(age_pred_dict, orient = 'index')\n",
        "age_pred_df.reset_index(level = 0, inplace = True)\n",
        "age_pred_df.rename(columns = {\"index\": \"subj_id\"}, inplace = True)"
      ],
      "metadata": {
        "id": "jFcsPDjFCy2B"
      },
      "execution_count": null,
      "outputs": []
    },
    {
      "cell_type": "code",
      "source": [
        "age_pred_df"
      ],
      "metadata": {
        "colab": {
          "base_uri": "https://localhost:8080/",
          "height": 424
        },
        "id": "Y2fyLEwDMG0H",
        "outputId": "ab6a3ca1-1a96-41b4-ef34-f024838b3ff7"
      },
      "execution_count": null,
      "outputs": [
        {
          "output_type": "execute_result",
          "data": {
            "text/html": [
              "\n",
              "  <div id=\"df-70ba330d-b36e-46d2-8ce1-bb1179256a3e\">\n",
              "    <div class=\"colab-df-container\">\n",
              "      <div>\n",
              "<style scoped>\n",
              "    .dataframe tbody tr th:only-of-type {\n",
              "        vertical-align: middle;\n",
              "    }\n",
              "\n",
              "    .dataframe tbody tr th {\n",
              "        vertical-align: top;\n",
              "    }\n",
              "\n",
              "    .dataframe thead th {\n",
              "        text-align: right;\n",
              "    }\n",
              "</style>\n",
              "<table border=\"1\" class=\"dataframe\">\n",
              "  <thead>\n",
              "    <tr style=\"text-align: right;\">\n",
              "      <th></th>\n",
              "      <th>subj_id</th>\n",
              "      <th>faceage</th>\n",
              "      <th>age</th>\n",
              "      <th>gender</th>\n",
              "      <th>race</th>\n",
              "    </tr>\n",
              "  </thead>\n",
              "  <tbody>\n",
              "    <tr>\n",
              "      <th>0</th>\n",
              "      <td>20170110153238490</td>\n",
              "      <td>75.026596</td>\n",
              "      <td>74</td>\n",
              "      <td>1</td>\n",
              "      <td>0</td>\n",
              "    </tr>\n",
              "    <tr>\n",
              "      <th>1</th>\n",
              "      <td>20170109213056053</td>\n",
              "      <td>28.754328</td>\n",
              "      <td>21</td>\n",
              "      <td>1</td>\n",
              "      <td>2</td>\n",
              "    </tr>\n",
              "    <tr>\n",
              "      <th>2</th>\n",
              "      <td>20170117012906285</td>\n",
              "      <td>48.943573</td>\n",
              "      <td>38</td>\n",
              "      <td>0</td>\n",
              "      <td>1</td>\n",
              "    </tr>\n",
              "    <tr>\n",
              "      <th>3</th>\n",
              "      <td>20170117151304315</td>\n",
              "      <td>30.146166</td>\n",
              "      <td>30</td>\n",
              "      <td>1</td>\n",
              "      <td>0</td>\n",
              "    </tr>\n",
              "    <tr>\n",
              "      <th>4</th>\n",
              "      <td>20170116200714834</td>\n",
              "      <td>45.974422</td>\n",
              "      <td>26</td>\n",
              "      <td>0</td>\n",
              "      <td>1</td>\n",
              "    </tr>\n",
              "    <tr>\n",
              "      <th>...</th>\n",
              "      <td>...</td>\n",
              "      <td>...</td>\n",
              "      <td>...</td>\n",
              "      <td>...</td>\n",
              "      <td>...</td>\n",
              "    </tr>\n",
              "    <tr>\n",
              "      <th>2542</th>\n",
              "      <td>20170117165048545</td>\n",
              "      <td>48.71622</td>\n",
              "      <td>55</td>\n",
              "      <td>0</td>\n",
              "      <td>1</td>\n",
              "    </tr>\n",
              "    <tr>\n",
              "      <th>2543</th>\n",
              "      <td>20170117182534670</td>\n",
              "      <td>60.842632</td>\n",
              "      <td>35</td>\n",
              "      <td>1</td>\n",
              "      <td>0</td>\n",
              "    </tr>\n",
              "    <tr>\n",
              "      <th>2544</th>\n",
              "      <td>20170117194914689</td>\n",
              "      <td>68.6251</td>\n",
              "      <td>63</td>\n",
              "      <td>0</td>\n",
              "      <td>0</td>\n",
              "    </tr>\n",
              "    <tr>\n",
              "      <th>2545</th>\n",
              "      <td>20170117175135184</td>\n",
              "      <td>25.377224</td>\n",
              "      <td>26</td>\n",
              "      <td>1</td>\n",
              "      <td>2</td>\n",
              "    </tr>\n",
              "    <tr>\n",
              "      <th>2546</th>\n",
              "      <td>20170117152131106</td>\n",
              "      <td>29.636372</td>\n",
              "      <td>35</td>\n",
              "      <td>1</td>\n",
              "      <td>0</td>\n",
              "    </tr>\n",
              "  </tbody>\n",
              "</table>\n",
              "<p>2547 rows × 5 columns</p>\n",
              "</div>\n",
              "      <button class=\"colab-df-convert\" onclick=\"convertToInteractive('df-70ba330d-b36e-46d2-8ce1-bb1179256a3e')\"\n",
              "              title=\"Convert this dataframe to an interactive table.\"\n",
              "              style=\"display:none;\">\n",
              "        \n",
              "  <svg xmlns=\"http://www.w3.org/2000/svg\" height=\"24px\"viewBox=\"0 0 24 24\"\n",
              "       width=\"24px\">\n",
              "    <path d=\"M0 0h24v24H0V0z\" fill=\"none\"/>\n",
              "    <path d=\"M18.56 5.44l.94 2.06.94-2.06 2.06-.94-2.06-.94-.94-2.06-.94 2.06-2.06.94zm-11 1L8.5 8.5l.94-2.06 2.06-.94-2.06-.94L8.5 2.5l-.94 2.06-2.06.94zm10 10l.94 2.06.94-2.06 2.06-.94-2.06-.94-.94-2.06-.94 2.06-2.06.94z\"/><path d=\"M17.41 7.96l-1.37-1.37c-.4-.4-.92-.59-1.43-.59-.52 0-1.04.2-1.43.59L10.3 9.45l-7.72 7.72c-.78.78-.78 2.05 0 2.83L4 21.41c.39.39.9.59 1.41.59.51 0 1.02-.2 1.41-.59l7.78-7.78 2.81-2.81c.8-.78.8-2.07 0-2.86zM5.41 20L4 18.59l7.72-7.72 1.47 1.35L5.41 20z\"/>\n",
              "  </svg>\n",
              "      </button>\n",
              "      \n",
              "  <style>\n",
              "    .colab-df-container {\n",
              "      display:flex;\n",
              "      flex-wrap:wrap;\n",
              "      gap: 12px;\n",
              "    }\n",
              "\n",
              "    .colab-df-convert {\n",
              "      background-color: #E8F0FE;\n",
              "      border: none;\n",
              "      border-radius: 50%;\n",
              "      cursor: pointer;\n",
              "      display: none;\n",
              "      fill: #1967D2;\n",
              "      height: 32px;\n",
              "      padding: 0 0 0 0;\n",
              "      width: 32px;\n",
              "    }\n",
              "\n",
              "    .colab-df-convert:hover {\n",
              "      background-color: #E2EBFA;\n",
              "      box-shadow: 0px 1px 2px rgba(60, 64, 67, 0.3), 0px 1px 3px 1px rgba(60, 64, 67, 0.15);\n",
              "      fill: #174EA6;\n",
              "    }\n",
              "\n",
              "    [theme=dark] .colab-df-convert {\n",
              "      background-color: #3B4455;\n",
              "      fill: #D2E3FC;\n",
              "    }\n",
              "\n",
              "    [theme=dark] .colab-df-convert:hover {\n",
              "      background-color: #434B5C;\n",
              "      box-shadow: 0px 1px 3px 1px rgba(0, 0, 0, 0.15);\n",
              "      filter: drop-shadow(0px 1px 2px rgba(0, 0, 0, 0.3));\n",
              "      fill: #FFFFFF;\n",
              "    }\n",
              "  </style>\n",
              "\n",
              "      <script>\n",
              "        const buttonEl =\n",
              "          document.querySelector('#df-70ba330d-b36e-46d2-8ce1-bb1179256a3e button.colab-df-convert');\n",
              "        buttonEl.style.display =\n",
              "          google.colab.kernel.accessAllowed ? 'block' : 'none';\n",
              "\n",
              "        async function convertToInteractive(key) {\n",
              "          const element = document.querySelector('#df-70ba330d-b36e-46d2-8ce1-bb1179256a3e');\n",
              "          const dataTable =\n",
              "            await google.colab.kernel.invokeFunction('convertToInteractive',\n",
              "                                                     [key], {});\n",
              "          if (!dataTable) return;\n",
              "\n",
              "          const docLinkHtml = 'Like what you see? Visit the ' +\n",
              "            '<a target=\"_blank\" href=https://colab.research.google.com/notebooks/data_table.ipynb>data table notebook</a>'\n",
              "            + ' to learn more about interactive tables.';\n",
              "          element.innerHTML = '';\n",
              "          dataTable['output_type'] = 'display_data';\n",
              "          await google.colab.output.renderOutput(dataTable, element);\n",
              "          const docLink = document.createElement('div');\n",
              "          docLink.innerHTML = docLinkHtml;\n",
              "          element.appendChild(docLink);\n",
              "        }\n",
              "      </script>\n",
              "    </div>\n",
              "  </div>\n",
              "  "
            ],
            "text/plain": [
              "                subj_id    faceage age gender race\n",
              "0     20170110153238490  75.026596  74      1    0\n",
              "1     20170109213056053  28.754328  21      1    2\n",
              "2     20170117012906285  48.943573  38      0    1\n",
              "3     20170117151304315  30.146166  30      1    0\n",
              "4     20170116200714834  45.974422  26      0    1\n",
              "...                 ...        ...  ..    ...  ...\n",
              "2542  20170117165048545   48.71622  55      0    1\n",
              "2543  20170117182534670  60.842632  35      1    0\n",
              "2544  20170117194914689    68.6251  63      0    0\n",
              "2545  20170117175135184  25.377224  26      1    2\n",
              "2546  20170117152131106  29.636372  35      1    0\n",
              "\n",
              "[2547 rows x 5 columns]"
            ]
          },
          "metadata": {},
          "execution_count": 15
        }
      ]
    },
    {
      "cell_type": "code",
      "source": [
        "outfile_name = 'utk_hi-res_qa_res.csv'\n",
        "outfile_path = os.path.join(BASE_OUTPUT_PATH, outfile_name) \n",
        "age_pred_df.to_csv(outfile_path, index = False)"
      ],
      "metadata": {
        "id": "BDDMrHfHMHom"
      },
      "execution_count": null,
      "outputs": []
    }
  ]
}